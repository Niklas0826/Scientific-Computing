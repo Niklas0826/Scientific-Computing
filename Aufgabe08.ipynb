{
 "cells": [
  {
   "cell_type": "markdown",
   "metadata": {},
   "source": [
    "Group XX (Name 1, Name 2, Name 3, Name 4)\n",
    "\n",
    "# Homework 8"
   ]
  },
  {
   "cell_type": "markdown",
   "metadata": {},
   "source": [
    "This homework revolves all around iterative schemes for solving linear systems. Let's start with the initializations, as usual."
   ]
  },
  {
   "cell_type": "code",
   "execution_count": 1,
   "metadata": {},
   "outputs": [
    {
     "data": {
      "text/html": [
       "<style>.output_png { display: table-cell; text-align: center; vertical-align: middle; }</style>"
      ],
      "text/plain": [
       "<IPython.core.display.HTML object>"
      ]
     },
     "execution_count": 1,
     "metadata": {},
     "output_type": "execute_result"
    }
   ],
   "source": [
    "import numpy as np                # basic arrays, vectors, matrices\n",
    "import scipy as sp                # matrix linear algebra \n",
    "import scipy.sparse               # sparse matrix functions and classes\n",
    "import scipy.sparse.linalg        # sparse matrix iterative solvers\n",
    "\n",
    "import scipy.io                   # sparse matrix I/O\n",
    "\n",
    "import matplotlib.pyplot as plt      # plotting\n",
    "from matplotlib import animation, rc # animations\n",
    "\n",
    "from mpl_toolkits.mplot3d import Axes3D\n",
    "\n",
    "%matplotlib inline\n",
    "\n",
    "from IPython.core.display import HTML\n",
    "HTML(\"\"\"<style>.output_png { display: table-cell; text-align: center; vertical-align: middle; }</style>\"\"\")"
   ]
  },
  {
   "cell_type": "markdown",
   "metadata": {},
   "source": [
    "<div class=\"alert alert-info\">\n",
    "    \n",
    "## Sparse Matrices and Fill-In\n",
    "</div>"
   ]
  },
  {
   "cell_type": "markdown",
   "metadata": {},
   "source": [
    "We have already seen that for large sparse matrices, the typical matrix factorizations such as the LU factorization or the Cholesky factorization can be prohibitively expensive. This is due to the phenomenon called **fill-in**, which refers to the fact that the factors can have many more non-zero entries than the matrix itself.\n",
    "\n",
    "Let's consider an example. In the following, we load a reasonably large matrix from an external file (in the [*MatrixMarket* format](https://math.nist.gov/MatrixMarket/formats.html)), print out the number of non-zero entries, and visualize it. \n",
    "\n",
    "<div class=\"alert alert-danger\">\n",
    "    \n",
    "**Note:** Please download the file `s3rmt3m3.mtx.gz` from the OLAT materials folder, and put it in the same directory as this notebook.\n",
    "</div>"
   ]
  },
  {
   "cell_type": "code",
   "execution_count": 2,
   "metadata": {},
   "outputs": [
    {
     "name": "stdout",
     "output_type": "stream",
     "text": [
      "A has 207695 (0.72%) non-zero entries.\n"
     ]
    },
    {
     "data": {
      "image/png": "[encoded data removed]",
      "text/plain": [
       "<Figure size 640x480 with 1 Axes>"
      ]
     },
     "metadata": {},
     "output_type": "display_data"
    }
   ],
   "source": [
    "A = sp.io.mmread('s3rmt3m3.mtx.gz')\n",
    "\n",
    "print( \"A has %d (%.2f%%) non-zero entries.\" % (A.nnz, 100.0 * A.nnz / np.prod(A.shape)) )\n",
    "plt.spy( A, markersize=.1 );"
   ]
  },
  {
   "cell_type": "markdown",
   "metadata": {},
   "source": [
    "Note that $A$ is not represented as an ordinary NumPy array, but rather as a custom class:"
   ]
  },
  {
   "cell_type": "code",
   "execution_count": 3,
   "metadata": {},
   "outputs": [
    {
     "data": {
      "text/plain": [
       "scipy.sparse._coo.coo_matrix"
      ]
     },
     "execution_count": 3,
     "metadata": {},
     "output_type": "execute_result"
    }
   ],
   "source": [
    "A.__class__"
   ]
  },
  {
   "cell_type": "markdown",
   "metadata": {},
   "source": [
    "The class `coo_matrix` stores a sparse matrix in [COOrdinate format](https://en.wikipedia.org/wiki/Sparse_matrix#Coordinate_list_(COO)), and provides a similar set of functionality as NumPy arrays, while only the non-zero entries of $A$ are stored.\n",
    "\n",
    "Let's investigate fill-in using the Cholesky factorization as an example. Remember, given $A$, the Cholesky factorization seeks a lower tridiagonal matrix $L$ such that\n",
    "$$A = LL^T$$\n",
    "holds.\n",
    "\n",
    "The fill-in factor can then be computed as $f = \\mathrm{nnz}(L)\\ /\\ \\mathrm{nnz}(A)$.\n",
    "\n",
    "Unfortunately, we cannot directly apply [`scipy.linalg.cholesky`](https://docs.scipy.org/doc/scipy-0.14.0/reference/generated/scipy.linalg.cholesky.html) directly to a `coo_matrix` instance. However, we can convert the sparse representation to a full (also called dense) representation using the [`todense`](https://docs.scipy.org/doc/scipy-0.14.0/reference/generated/scipy.sparse.coo_matrix.todense.html) method.\n",
    "\n"
   ]
  },
  {
   "cell_type": "markdown",
   "metadata": {},
   "source": [
    "<div class=\"alert alert-success\">\n",
    "\n",
    "**Task:** Perform Cholesky decomposition on $A$ to obtain $L$. Visualize $L$, and compute and print the fill-in factor.\n",
    "\n",
    "Notes:\n",
    "- Unfortunately, it is not possible to directly apply [`scipy.linalg.cholesky`](https://docs.scipy.org/doc/scipy-0.14.0/reference/generated/scipy.linalg.cholesky.html) to a `coo_matrix` instance. However, you can convert the sparse representation to a full (also called dense) representation using the [`todense`](https://docs.scipy.org/doc/scipy-0.14.0/reference/generated/scipy.sparse.coo_matrix.todense.html) method.\n",
    "\n",
    "- `coo_matrix` has an attribute `nnz`, but for the dense representation, use [`numpy.count_nonzero`](https://docs.scipy.org/doc/numpy/reference/generated/numpy.count_nonzero.html).\n",
    "</div>"
   ]
  },
  {
   "cell_type": "code",
   "execution_count": 4,
   "metadata": {},
   "outputs": [],
   "source": [
    "# TODO: perform Cholesky decomposition, visualize L, print fill-in factor"
   ]
  },
  {
   "cell_type": "markdown",
   "metadata": {},
   "source": [
    "As apparent, the number of matrix entries (and thus storage overhead) increases by a factor of 10.\n",
    "\n",
    "The same problem can occur when taking powers of $A$, or computing $A^T A$ (e.g. for least-squares problems)."
   ]
  },
  {
   "cell_type": "markdown",
   "metadata": {},
   "source": [
    "<div class=\"alert alert-info\">\n",
    "\n",
    "## Jacobi Method\n",
    "</div>"
   ]
  },
  {
   "cell_type": "markdown",
   "metadata": {},
   "source": [
    "The Jacobi method is a simple iterative scheme for solving linear systems of equations. Let's first set up a small test problem:"
   ]
  },
  {
   "cell_type": "code",
   "execution_count": 5,
   "metadata": {},
   "outputs": [
    {
     "name": "stdout",
     "output_type": "stream",
     "text": [
      "5.237486810921735\n"
     ]
    }
   ],
   "source": [
    "def sdd_system( m ):\n",
    "\n",
    "    n = int(np.sqrt(m))\n",
    "    \n",
    "    # generate random RHS\n",
    "    b = 2.0 * np.random.rand(m) - 1.0\n",
    "\n",
    "    A = sp.sparse.diags( [4.01, -1, -1, -1, -1], [0, 1, -1,n, -n], shape=(m, m) ).toarray()\n",
    "    return A, b\n",
    "    \n",
    "A, b = sdd_system( 5 )\n",
    "\n",
    "print(np.linalg.cond(A))"
   ]
  },
  {
   "cell_type": "markdown",
   "metadata": {},
   "source": [
    "The Jacobi iteration is guaranteed to converge for strictly diagonally dominant $A$."
   ]
  },
  {
   "cell_type": "markdown",
   "metadata": {},
   "source": [
    "<div class=\"alert alert-success\">\n",
    "\n",
    "**Task**: Write a function `is_sdd` that checks whether $A$ is strictly diagonally dominant, and verify that this is true for the test problem.\n",
    "\n",
    "</div>"
   ]
  },
  {
   "cell_type": "code",
   "execution_count": 6,
   "metadata": {},
   "outputs": [
    {
     "name": "stdout",
     "output_type": "stream",
     "text": [
      "True\n"
     ]
    }
   ],
   "source": [
    "def is_sdd( A ):\n",
    "    # TODO\n",
    "    D = np.diag(np.abs(A)) # Find diagonal coefficients\n",
    "    S = np.sum(np.abs(A), axis=1) - D # Find row sum without diagonal\n",
    "    if np.all(D > S):\n",
    "        print (\"True\")\n",
    "    else:\n",
    "        print (\"False\")\n",
    "    \n",
    "    return True\n",
    "    \n",
    "assert is_sdd(A)"
   ]
  },
  {
   "cell_type": "markdown",
   "metadata": {},
   "source": [
    "<div class=\"alert alert-success\">\n",
    "    \n",
    "**Task:** Implement the function `jacobi_iter` below to perform Jacobi iterations. Validate on the test problem that the residual is small after 100 iterations.\n",
    "\n",
    "</div>"
   ]
  },
  {
   "cell_type": "code",
   "execution_count": 7,
   "metadata": {},
   "outputs": [
    {
     "name": "stdout",
     "output_type": "stream",
     "text": [
      "0.3513373255931373\n"
     ]
    }
   ],
   "source": [
    "def jacobi_iter( A, b, n=100 ):\n",
    "    x = np.zeros(len(A))\n",
    "    # TODO\n",
    "    D = np.diag(A)\n",
    "    R = A - np.diagflat(D)\n",
    "    \n",
    "    for i in range(n):\n",
    "        x = (b - np.dot(R,x))/ D\n",
    "        #print(x)\n",
    "        return x\n",
    "\n",
    "x = jacobi_iter(A, b)\n",
    "print( np.linalg.norm(b-A@x) )"
   ]
  },
  {
   "cell_type": "markdown",
   "metadata": {},
   "source": [
    "<div class=\"alert alert-success\">\n",
    "\n",
    "**Task:** \n",
    "- Write a function `jacobi_iter_hist` that returns a list of all iterates, not just the final iterate. \n",
    "- Use this to create a convergence plot by plotting the residuals as a function of the iteration number.\n",
    "\n",
    "Note: [`pyplot.yscale`](https://matplotlib.org/3.1.1/api/_as_gen/matplotlib.pyplot.yscale.html) allows setting logarithmic scaling on the $y$-axis."
   ]
  },
  {
   "cell_type": "code",
   "execution_count": 8,
   "metadata": {},
   "outputs": [
    {
     "data": {
      "image/png": "[encoded data removed]",
      "text/plain": [
       "<Figure size 640x480 with 1 Axes>"
      ]
     },
     "metadata": {},
     "output_type": "display_data"
    }
   ],
   "source": [
    "def jacobi_iter_hist( A, b, n=100 ):\n",
    "    \n",
    "    # TODO \n",
    "    X = []\n",
    "    z= np.zeros(len(A))\n",
    "    D = np.diag(A)\n",
    "    R = A - np.diagflat(D)\n",
    "    \n",
    "    for i in range(n):\n",
    "        z = (b - np.dot(R,x))/ D\n",
    "        X.append(z)\n",
    "    \n",
    "        \n",
    "    return X\n",
    "\n",
    "X = jacobi_iter_hist(A, b)\n",
    "# TODO: plot iteration history\n",
    "plt.plot(X);\n",
    "plt.yscale('log')"
   ]
  },
  {
   "cell_type": "markdown",
   "metadata": {},
   "source": [
    "<div class=\"alert alert-success\">\n",
    "\n",
    "**Task:** Plot the convergence (as above) for problem sizes 5, 10, 20, 50, 100, in a single plot.\n",
    "\n",
    "\n",
    "Note: Use a legend (cf. [pyplot.legend](https://matplotlib.org/3.1.1/api/_as_gen/matplotlib.pyplot.legend.html)) so that it is clear which curve belongs to which problem size."
   ]
  },
  {
   "cell_type": "code",
   "execution_count": 9,
   "metadata": {},
   "outputs": [
    {
     "ename": "ValueError",
     "evalue": "shapes (10,10) and (5,) not aligned: 10 (dim 1) != 5 (dim 0)",
     "output_type": "error",
     "traceback": [
      "\u001b[1;31m---------------------------------------------------------------------------\u001b[0m",
      "\u001b[1;31mValueError\u001b[0m                                Traceback (most recent call last)",
      "Input \u001b[1;32mIn [9]\u001b[0m, in \u001b[0;36m<cell line: 1>\u001b[1;34m()\u001b[0m\n\u001b[0;32m      2\u001b[0m A, b \u001b[38;5;241m=\u001b[39m sdd_system(dim)\n\u001b[0;32m      4\u001b[0m \u001b[38;5;66;03m# TODO\u001b[39;00m\n\u001b[1;32m----> 5\u001b[0m X \u001b[38;5;241m=\u001b[39m \u001b[43mjacobi_iter_hist\u001b[49m\u001b[43m(\u001b[49m\u001b[43mA\u001b[49m\u001b[43m,\u001b[49m\u001b[43m \u001b[49m\u001b[43mb\u001b[49m\u001b[43m)\u001b[49m\n\u001b[0;32m      7\u001b[0m plt\u001b[38;5;241m.\u001b[39mplot(X, label \u001b[38;5;241m=\u001b[39m \u001b[38;5;124mf\u001b[39m\u001b[38;5;124m\"\u001b[39m\u001b[38;5;124mproblem size: \u001b[39m\u001b[38;5;132;01m{\u001b[39;00mdim\u001b[38;5;132;01m}\u001b[39;00m\u001b[38;5;124m\"\u001b[39m);\n\u001b[0;32m      8\u001b[0m plt\u001b[38;5;241m.\u001b[39mlegend(loc\u001b[38;5;241m=\u001b[39m\u001b[38;5;124m\"\u001b[39m\u001b[38;5;124mupper left\u001b[39m\u001b[38;5;124m\"\u001b[39m)\n",
      "Input \u001b[1;32mIn [8]\u001b[0m, in \u001b[0;36mjacobi_iter_hist\u001b[1;34m(A, b, n)\u001b[0m\n\u001b[0;32m      7\u001b[0m R \u001b[38;5;241m=\u001b[39m A \u001b[38;5;241m-\u001b[39m np\u001b[38;5;241m.\u001b[39mdiagflat(D)\n\u001b[0;32m      9\u001b[0m \u001b[38;5;28;01mfor\u001b[39;00m i \u001b[38;5;129;01min\u001b[39;00m \u001b[38;5;28mrange\u001b[39m(n):\n\u001b[1;32m---> 10\u001b[0m     z \u001b[38;5;241m=\u001b[39m (b \u001b[38;5;241m-\u001b[39m \u001b[43mnp\u001b[49m\u001b[38;5;241;43m.\u001b[39;49m\u001b[43mdot\u001b[49m\u001b[43m(\u001b[49m\u001b[43mR\u001b[49m\u001b[43m,\u001b[49m\u001b[43mx\u001b[49m\u001b[43m)\u001b[49m)\u001b[38;5;241m/\u001b[39m D\n\u001b[0;32m     11\u001b[0m     X\u001b[38;5;241m.\u001b[39mappend(z)\n\u001b[0;32m     14\u001b[0m \u001b[38;5;28;01mreturn\u001b[39;00m X\n",
      "File \u001b[1;32m<__array_function__ internals>:180\u001b[0m, in \u001b[0;36mdot\u001b[1;34m(*args, **kwargs)\u001b[0m\n",
      "\u001b[1;31mValueError\u001b[0m: shapes (10,10) and (5,) not aligned: 10 (dim 1) != 5 (dim 0)"
     ]
    },
    {
     "data": {
      "image/png": "[encoded data removed]",
      "text/plain": [
       "<Figure size 640x480 with 1 Axes>"
      ]
     },
     "metadata": {},
     "output_type": "display_data"
    }
   ],
   "source": [
    "for dim in [5, 10, 20, 50]:\n",
    "    A, b = sdd_system(dim)\n",
    "\n",
    "    # TODO\n",
    "    X = jacobi_iter_hist(A, b)\n",
    "    \n",
    "    plt.plot(X, label = f\"problem size: {dim}\");\n",
    "    plt.legend(loc=\"upper left\")\n",
    "    plt.yscale('log')"
   ]
  },
  {
   "cell_type": "markdown",
   "metadata": {},
   "source": [
    "<div class=\"alert alert-info\">\n",
    "\n",
    "## SOR Method\n",
    "</div>"
   ]
  },
  {
   "cell_type": "markdown",
   "metadata": {},
   "source": [
    "The **Successive Overrelaxation (SOR) Method** aims at solving linear systems in an iterative manner. \n",
    "The SOR method is a variant of the Gauss–Seidel method, resulting in faster convergence. In the following, the SOR method is briefly introduced.\n",
    "As usual, we consider the linear system $A \\mathbf{x} = \\mathbf{b}$.\n",
    "\n",
    "The SOR method first performs the Gauss-Seidel update:\n",
    "\\begin{equation*}\n",
    "\\mathbf{x}^{(k+1)}_{GS}  = -(D+L)^{-1}U\\mathbf{x}^{(k)} + (D+L)^{-1} \\mathbf{b},\n",
    "\\end{equation*}\n",
    "then it uses a combination of both $\\mathbf{x}^{(k+1)}_{GS}$ and $\\mathbf{x}^{(k)}$ for the final update: \n",
    "\\begin{equation*}\n",
    "\\mathbf{x}^{(k+1)}  = (1-\\omega) \\mathbf{x}^{(k)} + \\omega \\mathbf{x}^{(k+1)}_{GS}.\n",
    "\\end{equation*}\n",
    "The choice $\\omega < 1$ is called under-relaxation, while $\\omega > 1$ is called over-relaxation. \n",
    "\n",
    "In this exercise, we are going to try the SOR method on the so-called Poisson equation\n",
    "\n",
    "$$\n",
    "-\\left(\\frac{\\partial^2 u}{\\partial x^2} + \\frac{\\partial^2 u}{\\partial y^2}\\right) = f \\qquad u|_{\\partial\\Omega} = 0 \\qquad \\Omega = [0,1]^2\n",
    "$$\n",
    "\n",
    "which is a partial differential equation (PDE). (Don't worry, we will not look into this further at this time, but use this to generate an interesting large and sparse linear system.)\n",
    "\n",
    "Just to give you a tiny bit of a physical interpretation: the Poisson equation can be used to model the temperature distribution ($\\mathbf{u}$) on a thin square (made from some arbitrary material). The square is heated in certain places (described by the source term $f$), but kept at the temperature $0$ along its edges.\n",
    "\n",
    "By discretizing the square as an $n\\times n$ grid of points, we can turn the PDE into a linear system\n",
    "\n",
    "$$\n",
    "A\\mathbf{u} = \\mathbf{f},\n",
    "$$\n",
    "\n",
    "whose solution will give the temperature distribution on the square.\n",
    "\n",
    "The function `possion_system` below generates such systems for us. As we have $n\\times n$ grid points (i.e., variables in the system), $A$ is an $n^2\\times n^2$-matrix, and is thus large even for moderately sized $n$. However, only very few of its entries are non-zero."
   ]
  },
  {
   "cell_type": "code",
   "execution_count": 10,
   "metadata": {},
   "outputs": [
    {
     "name": "stdout",
     "output_type": "stream",
     "text": [
      "(2500, 2500) 12300 0.1968%\n"
     ]
    },
    {
     "data": {
      "image/png": "[encoded data removed]",
      "text/plain": [
       "<Figure size 640x480 with 1 Axes>"
      ]
     },
     "metadata": {},
     "output_type": "display_data"
    }
   ],
   "source": [
    "def poisson_system(n):\n",
    "    \n",
    "    d0 = np.ones(n*n)\n",
    "    d1 = np.ones(n*n); d1[n-1::n] = 0\n",
    "\n",
    "    A = scipy.sparse.diags([4*d0, -d1, -d1, -d0, -d0], [0, -1, 1, -n, n], \n",
    "                           shape=(n*n,n*n), format='coo', dtype=\"int8\" )\n",
    "\n",
    "    t = np.linspace(-5, 5, n)\n",
    "    b = np.where(np.linalg.norm(np.array(np.meshgrid(t,t)), axis=0) < 1, 1.0, 0.0).ravel()\n",
    "    \n",
    "    return A, b\n",
    "\n",
    "\n",
    "n = 50\n",
    "A, f = poisson_system(n)\n",
    "print( A.shape, A.nnz, \"%.4f%%\" % (100.0*(A.nnz/(n**4))) )\n",
    "plt.spy( A, ms=.1 );"
   ]
  },
  {
   "cell_type": "markdown",
   "metadata": {},
   "source": [
    "The right-hand side $\\mathbf{f}$ represents the heating. While it is an $(n\\cdot n)$-vector, we can reinterpret it as an $n\\times n$-matrix and visualize it."
   ]
  },
  {
   "cell_type": "code",
   "execution_count": 11,
   "metadata": {},
   "outputs": [
    {
     "data": {
      "image/png": "[encoded data removed]",
      "text/plain": [
       "<Figure size 640x480 with 1 Axes>"
      ]
     },
     "metadata": {},
     "output_type": "display_data"
    }
   ],
   "source": [
    "plt.imshow(f.reshape(n, n));"
   ]
  },
  {
   "cell_type": "markdown",
   "metadata": {},
   "source": [
    "So heating is applied in a circle in the middle of the square."
   ]
  },
  {
   "cell_type": "markdown",
   "metadata": {},
   "source": [
    "<div class=\"alert alert-success\">\n",
    "\n",
    "**Task:** Implement the function `solve_Poisson_equation` below to solve the heat equation using the SOR method. Other than the coefficient matrix $A$ and the right hand side vector $\\mathbf{f}$, the function also takes a scalar input `tol`. This parameter is used as a stopping criteria such that when the norm of the residual is below `tol`, the function terminates. Try different values of the relaxation parameter $\\omega$ to improve the convergence behavior. \n",
    "\n",
    "Note: Take advantage of the sparsity while implementing the function. Avoid accessing single elements of the matrix."
   ]
  },
  {
   "cell_type": "code",
   "execution_count": null,
   "metadata": {},
   "outputs": [],
   "source": [
    "def solve_Poisson_equation(A,f,tol):\n",
    "    \n",
    "    # TO DO\n",
    "    \n",
    "    B = A.toarray()\n",
    "    D = np.diag(np.diag(B))\n",
    "    L = np.tril(B) - D\n",
    "    U = np.triu(B) - D\n",
    "    \n",
    "    \n",
    "    \n",
    "    return solution\n",
    "\n",
    "u = solve_Poisson_equation(A,f,0.0001)\n"
   ]
  },
  {
   "cell_type": "markdown",
   "metadata": {},
   "source": [
    "Let's now print the residual and visualize the solution."
   ]
  },
  {
   "cell_type": "code",
   "execution_count": null,
   "metadata": {},
   "outputs": [],
   "source": [
    "print( \"residual =\", np.linalg.norm(A@u - f) )\n",
    "plt.imshow(u.reshape(n,n));"
   ]
  },
  {
   "cell_type": "markdown",
   "metadata": {},
   "source": [
    "While the residual may not be numerically small, this kind of accuracy is often good enough for this kind of applications."
   ]
  }
 ],
 "metadata": {
  "kernelspec": {
   "display_name": "Python 3 (ipykernel)",
   "language": "python",
   "name": "python3"
  },
  "language_info": {
   "codemirror_mode": {
    "name": "ipython",
    "version": 3
   },
   "file_extension": ".py",
   "mimetype": "text/x-python",
   "name": "python",
   "nbconvert_exporter": "python",
   "pygments_lexer": "ipython3",
   "version": "3.10.6"
  }
 },
 "nbformat": 4,
 "nbformat_minor": 2
}
